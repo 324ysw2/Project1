{
 "cells": [
  {
   "cell_type": "markdown",
   "metadata": {},
   "source": [
    "##### kospi 200 45분 기준 거래량 전처리\n",
    "* 전일 변동율 = (전날종가-전날시가)/전날시가 yesterday_change <br>\n",
    "* 야간 변동율 = (당일시가-전날종가)/전날종가 night_change <br>\n",
    "* 데이터 기간 : 2023/07/31 ~ 2023/10/20 "
   ]
  },
  {
   "cell_type": "code",
   "execution_count": 18,
   "metadata": {},
   "outputs": [],
   "source": [
    "import pandas as pd\n",
    "import os"
   ]
  },
  {
   "cell_type": "code",
   "execution_count": 19,
   "metadata": {},
   "outputs": [],
   "source": [
    "df = pd.read_csv(\"../dataset/ks200_45min_transaction.csv\", index_col=0)"
   ]
  },
  {
   "cell_type": "code",
   "execution_count": 20,
   "metadata": {},
   "outputs": [],
   "source": [
    "# 컬럼명 변경 : 현재가 거래량 체결시간 시가 고가 저가 수정주가이벤트 전일종가\n",
    "df.columns=['now','transaction','time','open','high','low','adj_event','yesterday_close']"
   ]
  },
  {
   "cell_type": "code",
   "execution_count": 21,
   "metadata": {},
   "outputs": [],
   "source": [
    "# 사용하지 않는 컬럼 제거 및 컬럼 순서 변경\n",
    "df.drop(['open','high','low','adj_event','yesterday_close'],axis=1, inplace=True)\n",
    "df = df[['time','transaction']]"
   ]
  },
  {
   "cell_type": "code",
   "execution_count": 30,
   "metadata": {},
   "outputs": [],
   "source": [
    "# 문자열을 datetime 객체로 변환\n",
    "date_format = \"%Y%m%d%H%M%S\"\n",
    "df['time'] = pd.to_datetime(df['time'], format = date_format)"
   ]
  },
  {
   "cell_type": "code",
   "execution_count": 33,
   "metadata": {},
   "outputs": [],
   "source": [
    "# 시간 순으로 정렬\n",
    "df = df.sort_values(by='time')\n",
    "\n",
    "# 인덱스 리셋\n",
    "df.reset_index(drop=True, inplace=True)"
   ]
  },
  {
   "cell_type": "code",
   "execution_count": 54,
   "metadata": {},
   "outputs": [],
   "source": [
    "# df[df['time']=='2023-07-31 08:45:00'] -> 320 번째 컬럼부터 추출 (기간 설정)\n",
    "# df[df['time']=='2023-10-20 15:30:00'] -> 859 번째 컬럼부터 추출 (기간 설정)\n",
    "df = df[320:860]\n",
    "df.reset_index(drop=True, inplace=True)"
   ]
  },
  {
   "cell_type": "code",
   "execution_count": 57,
   "metadata": {},
   "outputs": [],
   "source": [
    "# csv 파일로 새로 저장\n",
    "os.chdir(\"C:/Users/LGPC/Desktop/oncoding/Project1/dataset\")\n",
    "df.to_csv(\"C:/Users/LGPC/Desktop/oncoding/Project1/dataset/ks200_transaction_final.csv\")"
   ]
  },
  {
   "cell_type": "code",
   "execution_count": null,
   "metadata": {},
   "outputs": [],
   "source": []
  }
 ],
 "metadata": {
  "kernelspec": {
   "display_name": "Python 3",
   "language": "python",
   "name": "python3"
  },
  "language_info": {
   "codemirror_mode": {
    "name": "ipython",
    "version": 3
   },
   "file_extension": ".py",
   "mimetype": "text/x-python",
   "name": "python",
   "nbconvert_exporter": "python",
   "pygments_lexer": "ipython3",
   "version": "3.11.6"
  }
 },
 "nbformat": 4,
 "nbformat_minor": 2
}
