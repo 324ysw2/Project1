{
 "cells": [
  {
   "cell_type": "markdown",
   "metadata": {},
   "source": [
    "import modules & "
   ]
  },
  {
   "cell_type": "code",
   "execution_count": 14,
   "metadata": {},
   "outputs": [
    {
     "name": "stdout",
     "output_type": "stream",
     "text": [
      "현재 디렉토리: d:\\myhub\\Project1\\mid_code\n"
     ]
    }
   ],
   "source": [
    "import pandas as pd\n",
    "import os\n",
    "current_directory = os.getcwd()\n",
    "print(\"현재 디렉토리:\", current_directory)"
   ]
  },
  {
   "cell_type": "markdown",
   "metadata": {},
   "source": [
    "load data"
   ]
  },
  {
   "cell_type": "code",
   "execution_count": 15,
   "metadata": {},
   "outputs": [],
   "source": [
    "jpy = pd.read_csv('../dataset/JPY_KRW.csv')[['날짜','종가','시가']].rename(\n",
    "    columns={'날짜':'date',\n",
    "             '종가':'close',\n",
    "             '시가':'open'})"
   ]
  },
  {
   "cell_type": "code",
   "execution_count": 16,
   "metadata": {},
   "outputs": [
    {
     "name": "stdout",
     "output_type": "stream",
     "text": [
      "<class 'pandas.core.frame.DataFrame'>\n",
      "RangeIndex: 66 entries, 0 to 65\n",
      "Data columns (total 3 columns):\n",
      " #   Column  Non-Null Count  Dtype  \n",
      "---  ------  --------------  -----  \n",
      " 0   date    66 non-null     object \n",
      " 1   close   66 non-null     float64\n",
      " 2   open    66 non-null     float64\n",
      "dtypes: float64(2), object(1)\n",
      "memory usage: 1.7+ KB\n"
     ]
    }
   ],
   "source": [
    "jpy.info()"
   ]
  },
  {
   "cell_type": "markdown",
   "metadata": {},
   "source": [
    "#### 환율 변동값 전처리\n",
    "* 전일 변동율 = (전날종가-전날시가)/전날시가 yesterday_change <br>\n",
    "* 야간 변동율 = (당일시가-전날종가)/전날종가 night_change <br>\n",
    "* 데이터 기간 : 2023/07/31 ~ 2023/10/20"
   ]
  },
  {
   "cell_type": "code",
   "execution_count": 17,
   "metadata": {},
   "outputs": [],
   "source": [
    "# 파생변수 생성 (전일 변동율 = yesterday_change)\n",
    "jpy['jpy_yesterday_change'] = round((jpy['close']-jpy['open'])/jpy['open']*100, 2)\n",
    "jpy['jpy_yesterday_change'] = jpy['jpy_yesterday_change'].shift(1)\n",
    "\n",
    "# 파생변수 생성(야간 변동율 = night_change)\n",
    "jpy['close_shift'] = jpy['close'].shift(1)\n",
    "jpy['jpy_night_change'] = round((jpy['open']-jpy['close_shift'])/jpy['close_shift']*100,2)\n",
    "\n",
    "jpy.drop('close_shift',axis=1,inplace=True)"
   ]
  },
  {
   "cell_type": "code",
   "execution_count": 18,
   "metadata": {},
   "outputs": [],
   "source": [
    "# 데이터 기간 : 2023/07/31 ~ 2023/10/20\n",
    "# jpy = jpy.loc[jpy['date']<='2023-10-20',].loc[jpy['date']>='2023-07-31',]\n",
    "jpy = jpy[['date','jpy_yesterday_change','jpy_night_change']]"
   ]
  },
  {
   "cell_type": "code",
   "execution_count": 19,
   "metadata": {},
   "outputs": [],
   "source": [
    "# 날짜순으로 오름차순 정렬\n",
    "jpy.sort_values(by='date',inplace=True)\n",
    "jpy.reset_index(drop=True, inplace=True)"
   ]
  },
  {
   "cell_type": "code",
   "execution_count": 20,
   "metadata": {},
   "outputs": [
    {
     "data": {
      "text/html": [
       "<div>\n",
       "<style scoped>\n",
       "    .dataframe tbody tr th:only-of-type {\n",
       "        vertical-align: middle;\n",
       "    }\n",
       "\n",
       "    .dataframe tbody tr th {\n",
       "        vertical-align: top;\n",
       "    }\n",
       "\n",
       "    .dataframe thead th {\n",
       "        text-align: right;\n",
       "    }\n",
       "</style>\n",
       "<table border=\"1\" class=\"dataframe\">\n",
       "  <thead>\n",
       "    <tr style=\"text-align: right;\">\n",
       "      <th></th>\n",
       "      <th>date</th>\n",
       "      <th>jpy_yesterday_change</th>\n",
       "      <th>jpy_night_change</th>\n",
       "    </tr>\n",
       "  </thead>\n",
       "  <tbody>\n",
       "    <tr>\n",
       "      <th>0</th>\n",
       "      <td>2023- 07- 28</td>\n",
       "      <td>-0.56</td>\n",
       "      <td>2.55</td>\n",
       "    </tr>\n",
       "    <tr>\n",
       "      <th>1</th>\n",
       "      <td>2023- 07- 31</td>\n",
       "      <td>0.10</td>\n",
       "      <td>0.42</td>\n",
       "    </tr>\n",
       "    <tr>\n",
       "      <th>2</th>\n",
       "      <td>2023- 08- 01</td>\n",
       "      <td>0.74</td>\n",
       "      <td>-0.87</td>\n",
       "    </tr>\n",
       "    <tr>\n",
       "      <th>3</th>\n",
       "      <td>2023- 08- 02</td>\n",
       "      <td>0.49</td>\n",
       "      <td>-1.27</td>\n",
       "    </tr>\n",
       "    <tr>\n",
       "      <th>4</th>\n",
       "      <td>2023- 08- 03</td>\n",
       "      <td>0.86</td>\n",
       "      <td>-1.43</td>\n",
       "    </tr>\n",
       "    <tr>\n",
       "      <th>...</th>\n",
       "      <td>...</td>\n",
       "      <td>...</td>\n",
       "      <td>...</td>\n",
       "    </tr>\n",
       "    <tr>\n",
       "      <th>61</th>\n",
       "      <td>2023- 10- 23</td>\n",
       "      <td>-0.11</td>\n",
       "      <td>0.57</td>\n",
       "    </tr>\n",
       "    <tr>\n",
       "      <th>62</th>\n",
       "      <td>2023- 10- 24</td>\n",
       "      <td>0.37</td>\n",
       "      <td>-0.30</td>\n",
       "    </tr>\n",
       "    <tr>\n",
       "      <th>63</th>\n",
       "      <td>2023- 10- 25</td>\n",
       "      <td>-0.15</td>\n",
       "      <td>-0.29</td>\n",
       "    </tr>\n",
       "    <tr>\n",
       "      <th>64</th>\n",
       "      <td>2023- 10- 26</td>\n",
       "      <td>0.25</td>\n",
       "      <td>-0.03</td>\n",
       "    </tr>\n",
       "    <tr>\n",
       "      <th>65</th>\n",
       "      <td>2023- 10- 27</td>\n",
       "      <td>NaN</td>\n",
       "      <td>NaN</td>\n",
       "    </tr>\n",
       "  </tbody>\n",
       "</table>\n",
       "<p>66 rows × 3 columns</p>\n",
       "</div>"
      ],
      "text/plain": [
       "            date  jpy_yesterday_change  jpy_night_change\n",
       "0   2023- 07- 28                 -0.56              2.55\n",
       "1   2023- 07- 31                  0.10              0.42\n",
       "2   2023- 08- 01                  0.74             -0.87\n",
       "3   2023- 08- 02                  0.49             -1.27\n",
       "4   2023- 08- 03                  0.86             -1.43\n",
       "..           ...                   ...               ...\n",
       "61  2023- 10- 23                 -0.11              0.57\n",
       "62  2023- 10- 24                  0.37             -0.30\n",
       "63  2023- 10- 25                 -0.15             -0.29\n",
       "64  2023- 10- 26                  0.25             -0.03\n",
       "65  2023- 10- 27                   NaN               NaN\n",
       "\n",
       "[66 rows x 3 columns]"
      ]
     },
     "execution_count": 20,
     "metadata": {},
     "output_type": "execute_result"
    }
   ],
   "source": [
    "jpy"
   ]
  },
  {
   "cell_type": "code",
   "execution_count": 21,
   "metadata": {},
   "outputs": [
    {
     "name": "stdout",
     "output_type": "stream",
     "text": [
      "<class 'pandas.core.frame.DataFrame'>\n",
      "RangeIndex: 66 entries, 0 to 65\n",
      "Data columns (total 3 columns):\n",
      " #   Column                Non-Null Count  Dtype  \n",
      "---  ------                --------------  -----  \n",
      " 0   date                  66 non-null     object \n",
      " 1   jpy_yesterday_change  65 non-null     float64\n",
      " 2   jpy_night_change      65 non-null     float64\n",
      "dtypes: float64(2), object(1)\n",
      "memory usage: 1.7+ KB\n"
     ]
    }
   ],
   "source": [
    "jpy.info()"
   ]
  },
  {
   "cell_type": "markdown",
   "metadata": {},
   "source": [
    "기간 통일"
   ]
  },
  {
   "cell_type": "code",
   "execution_count": 22,
   "metadata": {},
   "outputs": [],
   "source": [
    "ks200 = pd.read_csv('../dataset/clean_feature/ks200_present.csv', index_col=0)\n",
    "ks200.date = pd.to_datetime(ks200.date)\n",
    "# 데이터 타입 변경\n",
    "jpy['date'] = pd.to_datetime(jpy['date'])\n",
    "jpy = pd.merge(jpy, ks200, left_on='date', right_on='date', how='inner')[jpy.columns]"
   ]
  },
  {
   "cell_type": "code",
   "execution_count": 23,
   "metadata": {},
   "outputs": [
    {
     "name": "stdout",
     "output_type": "stream",
     "text": [
      "        date  jpy_yesterday_change  jpy_night_change\n",
      "0 2023-07-31                  0.10              0.42\n",
      "1 2023-08-01                  0.74             -0.87\n",
      "2 2023-08-02                  0.49             -1.27\n",
      "3 2023-08-03                  0.86             -1.43\n",
      "4 2023-08-04                 -0.30             -0.57          date  jpy_yesterday_change  jpy_night_change\n",
      "49 2023-10-16                  0.13              0.24\n",
      "50 2023-10-17                 -0.06             -0.13\n",
      "51 2023-10-18                  0.15             -0.20\n",
      "52 2023-10-19                 -0.65              0.42\n",
      "53 2023-10-20                 -0.57              1.08\n"
     ]
    }
   ],
   "source": [
    "print(jpy.head(), jpy.tail())"
   ]
  },
  {
   "cell_type": "code",
   "execution_count": 24,
   "metadata": {},
   "outputs": [
    {
     "name": "stdout",
     "output_type": "stream",
     "text": [
      "<class 'pandas.core.frame.DataFrame'>\n",
      "RangeIndex: 54 entries, 0 to 53\n",
      "Data columns (total 3 columns):\n",
      " #   Column                Non-Null Count  Dtype         \n",
      "---  ------                --------------  -----         \n",
      " 0   date                  54 non-null     datetime64[ns]\n",
      " 1   jpy_yesterday_change  54 non-null     float64       \n",
      " 2   jpy_night_change      54 non-null     float64       \n",
      "dtypes: datetime64[ns](1), float64(2)\n",
      "memory usage: 1.4 KB\n"
     ]
    }
   ],
   "source": [
    "jpy.info()"
   ]
  },
  {
   "cell_type": "markdown",
   "metadata": {},
   "source": [
    "csv 파일로 새로 저장"
   ]
  },
  {
   "cell_type": "code",
   "execution_count": 25,
   "metadata": {},
   "outputs": [],
   "source": [
    "jpy.to_csv(\"../dataset/clean_feature/jpy_krw_final.csv\")"
   ]
  },
  {
   "cell_type": "code",
   "execution_count": null,
   "metadata": {},
   "outputs": [],
   "source": []
  }
 ],
 "metadata": {
  "kernelspec": {
   "display_name": "Python 3",
   "language": "python",
   "name": "python3"
  },
  "language_info": {
   "codemirror_mode": {
    "name": "ipython",
    "version": 3
   },
   "file_extension": ".py",
   "mimetype": "text/x-python",
   "name": "python",
   "nbconvert_exporter": "python",
   "pygments_lexer": "ipython3",
   "version": "3.11.5"
  }
 },
 "nbformat": 4,
 "nbformat_minor": 2
}
