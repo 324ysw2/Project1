{
 "cells": [
  {
   "cell_type": "markdown",
   "metadata": {},
   "source": [
    "import modules"
   ]
  },
  {
   "cell_type": "code",
   "execution_count": 1,
   "metadata": {},
   "outputs": [
    {
     "name": "stdout",
     "output_type": "stream",
     "text": [
      "현재 디렉토리: c:\\apps\\Project1\\mid_code\n"
     ]
    }
   ],
   "source": [
    "import pandas as pd\n",
    "import os\n",
    "current_directory = os.getcwd()\n",
    "print(\"현재 디렉토리:\", current_directory)"
   ]
  },
  {
   "cell_type": "markdown",
   "metadata": {},
   "source": [
    "load data"
   ]
  },
  {
   "cell_type": "code",
   "execution_count": 2,
   "metadata": {},
   "outputs": [],
   "source": [
    "cny = pd.read_csv('../dataset/CNY_KRW.csv').drop(['고가','저가','거래량'], axis=1).rename(\n",
    "    columns={'날짜':'date',\n",
    "             '종가':'close',\n",
    "             '시가':'open',\n",
    "             '변동 %':'close_change'})"
   ]
  },
  {
   "cell_type": "code",
   "execution_count": 3,
   "metadata": {},
   "outputs": [
    {
     "name": "stdout",
     "output_type": "stream",
     "text": [
      "<class 'pandas.core.frame.DataFrame'>\n",
      "RangeIndex: 66 entries, 0 to 65\n",
      "Data columns (total 4 columns):\n",
      " #   Column        Non-Null Count  Dtype  \n",
      "---  ------        --------------  -----  \n",
      " 0   date          66 non-null     object \n",
      " 1   close         66 non-null     float64\n",
      " 2   open          66 non-null     float64\n",
      " 3   close_change  66 non-null     object \n",
      "dtypes: float64(2), object(2)\n",
      "memory usage: 2.2+ KB\n"
     ]
    }
   ],
   "source": [
    "cny.info()"
   ]
  },
  {
   "cell_type": "code",
   "execution_count": 4,
   "metadata": {},
   "outputs": [],
   "source": [
    "# 특수문자 제거, 데이터 타입 변경\n",
    "cny['date'] = pd.to_datetime(cny['date'])"
   ]
  },
  {
   "cell_type": "code",
   "execution_count": 5,
   "metadata": {},
   "outputs": [],
   "source": [
    "# 날짜순으로 오름차순 정렬\n",
    "cny.sort_values(by='date').reset_index(drop=True, inplace=True)"
   ]
  },
  {
   "cell_type": "markdown",
   "metadata": {},
   "source": [
    "#### 환율 변동값 전처리\n",
    "* 전일 변동율 = (전날종가-전날시가)/전날시가 yesterday_change <br>\n",
    "* 야간 변동율 = (당일시가-전날종가)/전날종가 night_change <br>\n",
    "* 데이터 기간 : 2023/07/31 ~ 2023/10/20"
   ]
  },
  {
   "cell_type": "code",
   "execution_count": 6,
   "metadata": {},
   "outputs": [],
   "source": [
    "# 파생변수 생성 (전일 변동율 = yesterday_change)\n",
    "cny['cny_yesterday_change'] = round((cny['close']-cny['open'])/cny['open']*100, 2)\n",
    "cny['cny_yesterday_change'] = cny['cny_yesterday_change'].shift(1)\n",
    "\n",
    "# 파생변수 생성(야간 변동율 = night_change)\n",
    "cny['close_shift'] = cny['close'].shift(1)\n",
    "cny['cny_night_change'] = round((cny['open']-cny['close_shift'])/cny['close_shift']*100,2)\n",
    "\n",
    "cny.drop('close_shift',axis=1,inplace=True)"
   ]
  },
  {
   "cell_type": "code",
   "execution_count": 7,
   "metadata": {},
   "outputs": [],
   "source": [
    "# 종가 기준 변동율 전처리 및 데이터 형태 변환( 단위 : % )\n",
    "cny['close_change'] = cny['close_change'].str.replace('%','')\n",
    "cny['close_change'] = cny['close_change'].astype(float)"
   ]
  },
  {
   "cell_type": "code",
   "execution_count": 8,
   "metadata": {},
   "outputs": [],
   "source": [
    "cny = cny.loc[1:,][['date','cny_yesterday_change','cny_night_change']]"
   ]
  },
  {
   "cell_type": "code",
   "execution_count": 9,
   "metadata": {},
   "outputs": [
    {
     "name": "stdout",
     "output_type": "stream",
     "text": [
      "<class 'pandas.core.frame.DataFrame'>\n",
      "RangeIndex: 65 entries, 1 to 65\n",
      "Data columns (total 3 columns):\n",
      " #   Column                Non-Null Count  Dtype         \n",
      "---  ------                --------------  -----         \n",
      " 0   date                  65 non-null     datetime64[ns]\n",
      " 1   cny_yesterday_change  65 non-null     float64       \n",
      " 2   cny_night_change      65 non-null     float64       \n",
      "dtypes: datetime64[ns](1), float64(2)\n",
      "memory usage: 1.7 KB\n"
     ]
    }
   ],
   "source": [
    "cny.info()"
   ]
  },
  {
   "cell_type": "markdown",
   "metadata": {},
   "source": [
    "csv 파일로 새로 저장"
   ]
  },
  {
   "cell_type": "code",
   "execution_count": 10,
   "metadata": {},
   "outputs": [],
   "source": [
    "cny.to_csv(\"../dataset/cny_krw_final.csv\")"
   ]
  },
  {
   "cell_type": "code",
   "execution_count": null,
   "metadata": {},
   "outputs": [],
   "source": []
  }
 ],
 "metadata": {
  "kernelspec": {
   "display_name": "Python 3",
   "language": "python",
   "name": "python3"
  },
  "language_info": {
   "codemirror_mode": {
    "name": "ipython",
    "version": 3
   },
   "file_extension": ".py",
   "mimetype": "text/x-python",
   "name": "python",
   "nbconvert_exporter": "python",
   "pygments_lexer": "ipython3",
   "version": "3.11.4"
  }
 },
 "nbformat": 4,
 "nbformat_minor": 2
}
