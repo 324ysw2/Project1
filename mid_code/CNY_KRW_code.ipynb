{
 "cells": [
  {
   "cell_type": "markdown",
   "metadata": {},
   "source": [
    "import modules"
   ]
  },
  {
   "cell_type": "code",
   "execution_count": 188,
   "metadata": {},
   "outputs": [
    {
     "name": "stdout",
     "output_type": "stream",
     "text": [
      "현재 디렉토리: c:\\apps\\Project1\\mid_code\n"
     ]
    }
   ],
   "source": [
    "import pandas as pd\n",
    "from datetime import date, timedelta\n",
    "import datetime\n",
    "import holidays\n",
    "import os\n",
    "current_directory = os.getcwd()\n",
    "print(\"현재 디렉토리:\", current_directory)"
   ]
  },
  {
   "cell_type": "markdown",
   "metadata": {},
   "source": [
    "load data"
   ]
  },
  {
   "cell_type": "code",
   "execution_count": 189,
   "metadata": {},
   "outputs": [],
   "source": [
    "cny = pd.read_csv('../dataset/CNY_KRW.csv')[['날짜','종가','시가']].rename(\n",
    "    columns={'날짜':'date',\n",
    "             '종가':'close',\n",
    "             '시가':'open'})"
   ]
  },
  {
   "cell_type": "code",
   "execution_count": 190,
   "metadata": {},
   "outputs": [
    {
     "name": "stdout",
     "output_type": "stream",
     "text": [
      "<class 'pandas.core.frame.DataFrame'>\n",
      "Index: 66 entries, 65 to 0\n",
      "Data columns (total 3 columns):\n",
      " #   Column  Non-Null Count  Dtype  \n",
      "---  ------  --------------  -----  \n",
      " 0   date    66 non-null     object \n",
      " 1   close   66 non-null     float64\n",
      " 2   open    66 non-null     float64\n",
      "dtypes: float64(2), object(1)\n",
      "memory usage: 2.1+ KB\n",
      "None             date   close    open\n",
      "65  2023- 07- 28  178.02  179.00\n",
      "64  2023- 07- 31  178.90  178.10\n",
      "63  2023- 08- 01  179.58  178.96\n",
      "62  2023- 08- 02  180.60  179.64\n",
      "61  2023- 08- 03  181.24  180.69            date   close    open\n",
      "4  2023- 10- 23  183.45  184.57\n",
      "3  2023- 10- 24  183.82  183.66\n",
      "2  2023- 10- 25  184.81  183.90\n",
      "1  2023- 10- 26  184.88  184.89\n",
      "0  2023- 10- 27  184.98  184.72\n"
     ]
    }
   ],
   "source": [
    "cny.sort_values(by='date', inplace=True)\n",
    "print(cny.info(), cny.head(), cny.tail())"
   ]
  },
  {
   "cell_type": "code",
   "execution_count": 191,
   "metadata": {},
   "outputs": [],
   "source": [
    "# 한국의 공휴일 가져오기\n",
    "kr_holidays = holidays.SouthKorea(years=2023)\n",
    "\n",
    "# 기간 설정 (예: 2023년 1월 1일부터 12월 31일까지)\n",
    "start_date = date(2023, 7, 28)\n",
    "end_date = date(2023, 10, 20)\n",
    "\n",
    "# 한국의 공휴일을 제외한 날짜 리스트 생성\n",
    "date_list = []\n",
    "current_date = start_date\n",
    "while current_date <= end_date:\n",
    "    if current_date in kr_holidays:\n",
    "        date_list.append(current_date)\n",
    "    current_date += timedelta(days=1)"
   ]
  },
  {
   "cell_type": "code",
   "execution_count": 192,
   "metadata": {},
   "outputs": [
    {
     "data": {
      "text/plain": [
       "[datetime.date(2023, 8, 15),\n",
       " datetime.date(2023, 9, 28),\n",
       " datetime.date(2023, 9, 29),\n",
       " datetime.date(2023, 9, 30),\n",
       " datetime.date(2023, 10, 3),\n",
       " datetime.date(2023, 10, 9)]"
      ]
     },
     "execution_count": 192,
     "metadata": {},
     "output_type": "execute_result"
    }
   ],
   "source": [
    "date_list"
   ]
  },
  {
   "cell_type": "code",
   "execution_count": 193,
   "metadata": {},
   "outputs": [],
   "source": [
    "cny['date'] = pd.to_datetime(cny['date'])"
   ]
  },
  {
   "cell_type": "code",
   "execution_count": 194,
   "metadata": {},
   "outputs": [],
   "source": [
    "cny = cny.loc[~cny['date'].isin(date_list)]"
   ]
  },
  {
   "cell_type": "code",
   "execution_count": 195,
   "metadata": {},
   "outputs": [
    {
     "name": "stdout",
     "output_type": "stream",
     "text": [
      "<class 'pandas.core.frame.DataFrame'>\n",
      "Index: 61 entries, 65 to 0\n",
      "Data columns (total 3 columns):\n",
      " #   Column  Non-Null Count  Dtype         \n",
      "---  ------  --------------  -----         \n",
      " 0   date    61 non-null     datetime64[ns]\n",
      " 1   close   61 non-null     float64       \n",
      " 2   open    61 non-null     float64       \n",
      "dtypes: datetime64[ns](1), float64(2)\n",
      "memory usage: 1.9 KB\n",
      "None          date   close    open\n",
      "65 2023-07-28  178.02  179.00\n",
      "64 2023-07-31  178.90  178.10\n",
      "63 2023-08-01  179.58  178.96\n",
      "62 2023-08-02  180.60  179.64\n",
      "61 2023-08-03  181.24  180.69         date   close    open\n",
      "4 2023-10-23  183.45  184.57\n",
      "3 2023-10-24  183.82  183.66\n",
      "2 2023-10-25  184.81  183.90\n",
      "1 2023-10-26  184.88  184.89\n",
      "0 2023-10-27  184.98  184.72\n"
     ]
    }
   ],
   "source": [
    "print(cny.info(), cny.head(), cny.tail())"
   ]
  },
  {
   "cell_type": "markdown",
   "metadata": {},
   "source": [
    "#### 환율 변동값 전처리\n",
    "* 전일 변동율 = (전날종가-전날시가)/전날시가 yesterday_change <br>\n",
    "* 야간 변동율 = (당일시가-전날종가)/전날종가 night_change <br>\n",
    "* 데이터 기간 : 2023/07/31 ~ 2023/10/20"
   ]
  },
  {
   "cell_type": "code",
   "execution_count": 196,
   "metadata": {},
   "outputs": [
    {
     "name": "stdout",
     "output_type": "stream",
     "text": [
      "<class 'pandas.core.frame.DataFrame'>\n",
      "Index: 61 entries, 65 to 0\n",
      "Data columns (total 5 columns):\n",
      " #   Column                Non-Null Count  Dtype         \n",
      "---  ------                --------------  -----         \n",
      " 0   date                  61 non-null     datetime64[ns]\n",
      " 1   close                 61 non-null     float64       \n",
      " 2   open                  61 non-null     float64       \n",
      " 3   cny_yesterday_change  60 non-null     float64       \n",
      " 4   cny_night_change      60 non-null     float64       \n",
      "dtypes: datetime64[ns](1), float64(4)\n",
      "memory usage: 2.9 KB\n",
      "None          date   close    open  cny_yesterday_change  cny_night_change\n",
      "65 2023-07-28  178.02  179.00                   NaN               NaN\n",
      "64 2023-07-31  178.90  178.10                 -0.55              0.04\n",
      "63 2023-08-01  179.58  178.96                  0.45              0.03\n",
      "62 2023-08-02  180.60  179.64                  0.35              0.03\n",
      "61 2023-08-03  181.24  180.69                  0.53              0.05         date   close    open  cny_yesterday_change  cny_night_change\n",
      "4 2023-10-23  183.45  184.57                 -0.65              0.11\n",
      "3 2023-10-24  183.82  183.66                 -0.61              0.11\n",
      "2 2023-10-25  184.81  183.90                  0.09              0.04\n",
      "1 2023-10-26  184.88  184.89                  0.49              0.04\n",
      "0 2023-10-27  184.98  184.72                 -0.01             -0.09\n"
     ]
    }
   ],
   "source": [
    "# 파생변수 생성 (전일 변동율 = yesterday_change)\n",
    "cny['cny_yesterday_change'] = round((cny['close']-cny['open'])/cny['open']*100, 2)\n",
    "cny['cny_yesterday_change'] = cny['cny_yesterday_change'].shift(1)\n",
    "\n",
    "# 파생변수 생성(야간 변동율 = night_change)\n",
    "cny['close_shift'] = cny['close'].shift(1)\n",
    "cny['cny_night_change'] = round((cny['open']-cny['close_shift'])/cny['close_shift']*100,2)\n",
    "\n",
    "cny.drop('close_shift',axis=1,inplace=True)\n",
    "print(cny.info(), cny.head(), cny.tail())"
   ]
  },
  {
   "cell_type": "code",
   "execution_count": 197,
   "metadata": {},
   "outputs": [
    {
     "name": "stdout",
     "output_type": "stream",
     "text": [
      "<class 'pandas.core.frame.DataFrame'>\n",
      "Index: 55 entries, 64 to 5\n",
      "Data columns (total 3 columns):\n",
      " #   Column                Non-Null Count  Dtype         \n",
      "---  ------                --------------  -----         \n",
      " 0   date                  55 non-null     datetime64[ns]\n",
      " 1   cny_yesterday_change  55 non-null     float64       \n",
      " 2   cny_night_change      55 non-null     float64       \n",
      "dtypes: datetime64[ns](1), float64(2)\n",
      "memory usage: 1.7 KB\n",
      "None          date  cny_yesterday_change  cny_night_change\n",
      "64 2023-07-31                 -0.55              0.04\n",
      "63 2023-08-01                  0.45              0.03\n",
      "62 2023-08-02                  0.35              0.03\n",
      "61 2023-08-03                  0.53              0.05\n",
      "60 2023-08-04                  0.30              0.09         date  cny_yesterday_change  cny_night_change\n",
      "9 2023-10-16                  0.15              0.08\n",
      "8 2023-10-17                 -0.46              0.03\n",
      "7 2023-10-18                  0.30              0.08\n",
      "6 2023-10-19                 -0.02              0.12\n",
      "5 2023-10-20                  0.05              0.10\n"
     ]
    }
   ],
   "source": [
    "# 데이터 기간 : 2023/07/31 ~ 2023/10/20\n",
    "cny = cny.loc[cny['date']<='2023-10-20',].loc[cny['date']>='2023-07-31',]\n",
    "cny = cny[['date','cny_yesterday_change','cny_night_change']]\n",
    "print(cny.info(), cny.head(), cny.tail())"
   ]
  },
  {
   "cell_type": "code",
   "execution_count": 198,
   "metadata": {},
   "outputs": [],
   "source": [
    "# 날짜순으로 오름차순 정렬\n",
    "cny.sort_values(by='date', inplace=True)\n",
    "cny.reset_index(drop=True, inplace=True)"
   ]
  },
  {
   "cell_type": "code",
   "execution_count": 199,
   "metadata": {},
   "outputs": [
    {
     "name": "stdout",
     "output_type": "stream",
     "text": [
      "<class 'pandas.core.frame.DataFrame'>\n",
      "RangeIndex: 55 entries, 0 to 54\n",
      "Data columns (total 3 columns):\n",
      " #   Column                Non-Null Count  Dtype         \n",
      "---  ------                --------------  -----         \n",
      " 0   date                  55 non-null     datetime64[ns]\n",
      " 1   cny_yesterday_change  55 non-null     float64       \n",
      " 2   cny_night_change      55 non-null     float64       \n",
      "dtypes: datetime64[ns](1), float64(2)\n",
      "memory usage: 1.4 KB\n",
      "None         date  cny_yesterday_change  cny_night_change\n",
      "0 2023-07-31                 -0.55              0.04\n",
      "1 2023-08-01                  0.45              0.03\n",
      "2 2023-08-02                  0.35              0.03\n",
      "3 2023-08-03                  0.53              0.05\n",
      "4 2023-08-04                  0.30              0.09          date  cny_yesterday_change  cny_night_change\n",
      "50 2023-10-16                  0.15              0.08\n",
      "51 2023-10-17                 -0.46              0.03\n",
      "52 2023-10-18                  0.30              0.08\n",
      "53 2023-10-19                 -0.02              0.12\n",
      "54 2023-10-20                  0.05              0.10\n"
     ]
    }
   ],
   "source": [
    "print(cny.info(), cny.head(), cny.tail())"
   ]
  },
  {
   "cell_type": "markdown",
   "metadata": {},
   "source": [
    "csv 파일로 새로 저장"
   ]
  },
  {
   "cell_type": "code",
   "execution_count": 200,
   "metadata": {},
   "outputs": [],
   "source": [
    "cny.to_csv(\"../dataset/clean_feature/cny_krw_final.csv\")"
   ]
  },
  {
   "cell_type": "code",
   "execution_count": null,
   "metadata": {},
   "outputs": [],
   "source": []
  }
 ],
 "metadata": {
  "kernelspec": {
   "display_name": "Python 3",
   "language": "python",
   "name": "python3"
  },
  "language_info": {
   "codemirror_mode": {
    "name": "ipython",
    "version": 3
   },
   "file_extension": ".py",
   "mimetype": "text/x-python",
   "name": "python",
   "nbconvert_exporter": "python",
   "pygments_lexer": "ipython3",
   "version": "3.11.4"
  }
 },
 "nbformat": 4,
 "nbformat_minor": 2
}
