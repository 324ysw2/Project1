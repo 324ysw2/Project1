{
 "cells": [
  {
   "cell_type": "markdown",
   "metadata": {},
   "source": [
    "import modules"
   ]
  },
  {
   "cell_type": "code",
   "execution_count": 31,
   "metadata": {},
   "outputs": [
    {
     "name": "stdout",
     "output_type": "stream",
     "text": [
      "현재 디렉토리: d:\\myhub\\Project1\\mid_code\n"
     ]
    }
   ],
   "source": [
    "import pandas as pd\n",
    "import os\n",
    "current_directory = os.getcwd()\n",
    "print(\"현재 디렉토리:\", current_directory)"
   ]
  },
  {
   "cell_type": "markdown",
   "metadata": {},
   "source": [
    "load data"
   ]
  },
  {
   "cell_type": "code",
   "execution_count": 32,
   "metadata": {},
   "outputs": [],
   "source": [
    "cny = pd.read_csv('../dataset/CNY_KRW.csv')[['날짜','종가','시가']].rename(\n",
    "    columns={'날짜':'date',\n",
    "             '종가':'close',\n",
    "             '시가':'open'})"
   ]
  },
  {
   "cell_type": "code",
   "execution_count": 33,
   "metadata": {},
   "outputs": [
    {
     "name": "stdout",
     "output_type": "stream",
     "text": [
      "<class 'pandas.core.frame.DataFrame'>\n",
      "RangeIndex: 66 entries, 0 to 65\n",
      "Data columns (total 3 columns):\n",
      " #   Column  Non-Null Count  Dtype  \n",
      "---  ------  --------------  -----  \n",
      " 0   date    66 non-null     object \n",
      " 1   close   66 non-null     float64\n",
      " 2   open    66 non-null     float64\n",
      "dtypes: float64(2), object(1)\n",
      "memory usage: 1.7+ KB\n"
     ]
    }
   ],
   "source": [
    "cny.info()"
   ]
  },
  {
   "cell_type": "markdown",
   "metadata": {},
   "source": [
    "#### 환율 변동값 전처리\n",
    "* 전일 변동율 = (전날종가-전날시가)/전날시가 yesterday_change <br>\n",
    "* 야간 변동율 = (당일시가-전날종가)/전날종가 night_change <br>\n",
    "* 데이터 기간 : 2023/07/31 ~ 2023/10/20"
   ]
  },
  {
   "cell_type": "code",
   "execution_count": 34,
   "metadata": {},
   "outputs": [],
   "source": [
    "# 파생변수 생성 (전일 변동율 = yesterday_change)\n",
    "cny['cny_yesterday_change'] = round((cny['close']-cny['open'])/cny['open']*100, 2)\n",
    "cny['cny_yesterday_change'] = cny['cny_yesterday_change'].shift(1)\n",
    "\n",
    "# 파생변수 생성(야간 변동율 = night_change)\n",
    "cny['close_shift'] = cny['close'].shift(1)\n",
    "cny['cny_night_change'] = round((cny['open']-cny['close_shift'])/cny['close_shift']*100,2)\n",
    "\n",
    "cny.drop('close_shift',axis=1,inplace=True)"
   ]
  },
  {
   "cell_type": "code",
   "execution_count": 35,
   "metadata": {},
   "outputs": [],
   "source": [
    "# 데이터 기간 : 2023/07/31 ~ 2023/10/20\n",
    "# cny = cny.loc[cny['date']<='2023-10-20',].loc[cny['date']>='2023-07-31',]\n",
    "cny = cny[['date','cny_yesterday_change','cny_night_change']]"
   ]
  },
  {
   "cell_type": "code",
   "execution_count": 36,
   "metadata": {},
   "outputs": [],
   "source": [
    "# 날짜순으로 오름차순 정렬\n",
    "cny.sort_values(by='date', inplace=True)\n",
    "cny.reset_index(drop=True, inplace=True)"
   ]
  },
  {
   "cell_type": "code",
   "execution_count": 37,
   "metadata": {},
   "outputs": [
    {
     "name": "stdout",
     "output_type": "stream",
     "text": [
      "           date  cny_yesterday_change  cny_night_change\n",
      "0  2023- 07- 28                  0.45              0.06\n",
      "1  2023- 07- 31                  0.35             -0.82\n",
      "2  2023- 08- 01                  0.53             -0.91\n",
      "3  2023- 08- 02                  0.30             -0.88\n",
      "4  2023- 08- 03                  0.25             -0.64             date  cny_yesterday_change  cny_night_change\n",
      "61  2023- 10- 23                  0.09              0.41\n",
      "62  2023- 10- 24                  0.49             -0.62\n",
      "63  2023- 10- 25                 -0.01             -0.53\n",
      "64  2023- 10- 26                  0.14             -0.05\n",
      "65  2023- 10- 27                   NaN               NaN\n"
     ]
    }
   ],
   "source": [
    "print(cny.head(), cny.tail())"
   ]
  },
  {
   "cell_type": "code",
   "execution_count": 38,
   "metadata": {},
   "outputs": [
    {
     "name": "stdout",
     "output_type": "stream",
     "text": [
      "<class 'pandas.core.frame.DataFrame'>\n",
      "RangeIndex: 66 entries, 0 to 65\n",
      "Data columns (total 3 columns):\n",
      " #   Column                Non-Null Count  Dtype  \n",
      "---  ------                --------------  -----  \n",
      " 0   date                  66 non-null     object \n",
      " 1   cny_yesterday_change  65 non-null     float64\n",
      " 2   cny_night_change      65 non-null     float64\n",
      "dtypes: float64(2), object(1)\n",
      "memory usage: 1.7+ KB\n"
     ]
    }
   ],
   "source": [
    "cny.info()"
   ]
  },
  {
   "cell_type": "markdown",
   "metadata": {},
   "source": [
    "기간 통일"
   ]
  },
  {
   "cell_type": "code",
   "execution_count": 39,
   "metadata": {},
   "outputs": [],
   "source": [
    "ks200 = pd.read_csv('../dataset/clean_feature/ks200_present.csv', index_col=0)\n",
    "# 데이터 타입 변경\n",
    "cny['date'] = pd.to_datetime(cny['date'])\n",
    "ks200.date = pd.to_datetime(ks200.date)\n",
    "cny = pd.merge(cny, ks200, left_on='date', right_on='date', how='inner')[cny.columns]"
   ]
  },
  {
   "cell_type": "code",
   "execution_count": 40,
   "metadata": {},
   "outputs": [
    {
     "name": "stdout",
     "output_type": "stream",
     "text": [
      "        date  cny_yesterday_change  cny_night_change\n",
      "0 2023-07-31                  0.35             -0.82\n",
      "1 2023-08-01                  0.53             -0.91\n",
      "2 2023-08-02                  0.30             -0.88\n",
      "3 2023-08-03                  0.25             -0.64\n",
      "4 2023-08-04                 -0.09             -0.18          date  cny_yesterday_change  cny_night_change\n",
      "49 2023-10-16                  0.30              0.14\n",
      "50 2023-10-17                 -0.02             -0.35\n",
      "51 2023-10-18                  0.05             -0.16\n",
      "52 2023-10-19                 -0.65              0.50\n",
      "53 2023-10-20                 -0.61              1.16\n"
     ]
    }
   ],
   "source": [
    "print(cny.head(), cny.tail())"
   ]
  },
  {
   "cell_type": "code",
   "execution_count": 41,
   "metadata": {},
   "outputs": [
    {
     "name": "stdout",
     "output_type": "stream",
     "text": [
      "<class 'pandas.core.frame.DataFrame'>\n",
      "RangeIndex: 54 entries, 0 to 53\n",
      "Data columns (total 3 columns):\n",
      " #   Column                Non-Null Count  Dtype         \n",
      "---  ------                --------------  -----         \n",
      " 0   date                  54 non-null     datetime64[ns]\n",
      " 1   cny_yesterday_change  54 non-null     float64       \n",
      " 2   cny_night_change      54 non-null     float64       \n",
      "dtypes: datetime64[ns](1), float64(2)\n",
      "memory usage: 1.4 KB\n"
     ]
    }
   ],
   "source": [
    "cny.info()"
   ]
  },
  {
   "cell_type": "markdown",
   "metadata": {},
   "source": [
    "csv 파일로 새로 저장"
   ]
  },
  {
   "cell_type": "code",
   "execution_count": 42,
   "metadata": {},
   "outputs": [],
   "source": [
    "cny.to_csv(\"../dataset/clean_feature/cny_krw_final.csv\")"
   ]
  },
  {
   "cell_type": "code",
   "execution_count": null,
   "metadata": {},
   "outputs": [],
   "source": []
  }
 ],
 "metadata": {
  "kernelspec": {
   "display_name": "Python 3",
   "language": "python",
   "name": "python3"
  },
  "language_info": {
   "codemirror_mode": {
    "name": "ipython",
    "version": 3
   },
   "file_extension": ".py",
   "mimetype": "text/x-python",
   "name": "python",
   "nbconvert_exporter": "python",
   "pygments_lexer": "ipython3",
   "version": "3.11.5"
  }
 },
 "nbformat": 4,
 "nbformat_minor": 2
}
