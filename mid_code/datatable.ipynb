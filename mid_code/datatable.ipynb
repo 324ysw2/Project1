{
 "cells": [
  {
   "cell_type": "markdown",
   "metadata": {},
   "source": [
    "#### 환율 변동값 전처리\n",
    "* 전일 변동율 = (전날종가-전날시가)/전날시가 yesterday_change <br>\n",
    "* 야간 변동율 = (당일시가-전날종가)/전날종가 night_change <br>\n",
    "* 데이터 기간 : 2023/07/31 ~ 2023/10/20"
   ]
  },
  {
   "cell_type": "code",
   "execution_count": 57,
   "metadata": {},
   "outputs": [],
   "source": [
    "import pandas as pd\n",
    "import os"
   ]
  },
  {
   "cell_type": "code",
   "execution_count": 3,
   "metadata": {},
   "outputs": [],
   "source": [
    "df = pd.read_csv(\"../dataset/usd_krw.csv\", encoding='cp949')"
   ]
  },
  {
   "cell_type": "code",
   "execution_count": 5,
   "metadata": {},
   "outputs": [],
   "source": [
    "# 고가, 저가 드롭\n",
    "usd = df.drop(['high','low'], axis=1)"
   ]
  },
  {
   "cell_type": "code",
   "execution_count": null,
   "metadata": {},
   "outputs": [],
   "source": [
    "usd.info()"
   ]
  },
  {
   "cell_type": "code",
   "execution_count": 7,
   "metadata": {},
   "outputs": [],
   "source": [
    "# 특수문자 제거, 데이터 타입 변경\n",
    "usd['close'] = usd['close'].str.replace(',','')\n",
    "usd['open'] = usd['open'].str.replace(',','')\n",
    "\n",
    "\n",
    "usd[['close','open']] = usd[['close','open']].astype(float)\n",
    "df['date'] = pd.to_datetime(df['date'])"
   ]
  },
  {
   "cell_type": "code",
   "execution_count": 16,
   "metadata": {},
   "outputs": [],
   "source": [
    "# 날짜순으로 오름차순 정렬\n",
    "usd = usd.sort_values(by='date')"
   ]
  },
  {
   "cell_type": "code",
   "execution_count": 9,
   "metadata": {},
   "outputs": [],
   "source": [
    "# 인덱스 변경\n",
    "usd.reset_index(drop=True, inplace=True)"
   ]
  },
  {
   "cell_type": "code",
   "execution_count": 38,
   "metadata": {},
   "outputs": [],
   "source": [
    "# 파생변수 생성 (전일 변동율 = yesterday_change)\n",
    "usd['yesterday_change'] = round((usd['close']-usd['open'])/usd['open']*100, 2)\n",
    "usd['yesterday_change'] = usd['yesterday_change'].shift(1)\n",
    "\n",
    "# 파생변수 생성(야간 변동율 = night_change)\n",
    "usd['close_shift'] = usd['close'].shift(1)\n",
    "usd['night_change'] = round((usd['open']-usd['close_shift'])/usd['close_shift']*100,2)\n",
    "\n",
    "usd.drop('close_shift',axis=1,inplace=True)"
   ]
  },
  {
   "cell_type": "code",
   "execution_count": 51,
   "metadata": {},
   "outputs": [],
   "source": [
    "# 종가 기준 변동율 전처리 및 데이터 형태 변환( 단위 : % )\n",
    "usd['close_change'] = usd['close_change'].str.replace('%','')\n",
    "usd['close_change'] = usd['close_change'].astype(float)"
   ]
  },
  {
   "cell_type": "code",
   "execution_count": 58,
   "metadata": {},
   "outputs": [],
   "source": [
    "# csv 파일로 새로 저장\n",
    "os.chdir(\"C:/Users/LGPC/Desktop/oncoding/Project1/dataset\")\n",
    "usd.to_csv(\"C:/Users/LGPC/Desktop/oncoding/Project1/dataset/usd_krw_final.csv\")"
   ]
  },
  {
   "cell_type": "code",
   "execution_count": null,
   "metadata": {},
   "outputs": [],
   "source": []
  }
 ],
 "metadata": {
  "kernelspec": {
   "display_name": "Python 3",
   "language": "python",
   "name": "python3"
  },
  "language_info": {
   "codemirror_mode": {
    "name": "ipython",
    "version": 3
   },
   "file_extension": ".py",
   "mimetype": "text/x-python",
   "name": "python",
   "nbconvert_exporter": "python",
   "pygments_lexer": "ipython3",
   "version": "3.11.6"
  }
 },
 "nbformat": 4,
 "nbformat_minor": 2
}
