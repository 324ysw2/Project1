{
 "cells": [
  {
   "cell_type": "markdown",
   "metadata": {},
   "source": [
    "import modules"
   ]
  },
  {
   "cell_type": "code",
   "execution_count": 54,
   "metadata": {},
   "outputs": [
    {
     "name": "stdout",
     "output_type": "stream",
     "text": [
      "현재 디렉토리: c:\\apps\\Project1\\data_preprocessing\n"
     ]
    }
   ],
   "source": [
    "import pandas as pd\n",
    "import os\n",
    "current_directory = os.getcwd()\n",
    "print(\"현재 디렉토리:\", current_directory)"
   ]
  },
  {
   "cell_type": "markdown",
   "metadata": {},
   "source": [
    "load data"
   ]
  },
  {
   "cell_type": "code",
   "execution_count": 55,
   "metadata": {},
   "outputs": [
    {
     "name": "stderr",
     "output_type": "stream",
     "text": [
      "c:\\Users\\user\\AppData\\Local\\Programs\\Python\\Python311\\Lib\\site-packages\\openpyxl\\styles\\stylesheet.py:226: UserWarning: Workbook contains no default style, apply openpyxl's default\n",
      "  warn(\"Workbook contains no default style, apply openpyxl's default\")\n"
     ]
    }
   ],
   "source": [
    "cd = pd.read_excel('../dataset/CD.xlsx').rename(columns={'Unnamed: 0':'date', 'CD(91일)':'cd'})"
   ]
  },
  {
   "cell_type": "code",
   "execution_count": 56,
   "metadata": {},
   "outputs": [
    {
     "name": "stdout",
     "output_type": "stream",
     "text": [
      "<class 'pandas.core.frame.DataFrame'>\n",
      "RangeIndex: 60 entries, 0 to 59\n",
      "Data columns (total 2 columns):\n",
      " #   Column  Non-Null Count  Dtype  \n",
      "---  ------  --------------  -----  \n",
      " 0   date    60 non-null     object \n",
      " 1   cd      60 non-null     float64\n",
      "dtypes: float64(1), object(1)\n",
      "memory usage: 1.1+ KB\n"
     ]
    }
   ],
   "source": [
    "cd.info()"
   ]
  },
  {
   "cell_type": "code",
   "execution_count": 57,
   "metadata": {},
   "outputs": [
    {
     "data": {
      "text/plain": [
       "0     2023/07/28\n",
       "1     2023/07/31\n",
       "2     2023/08/01\n",
       "3     2023/08/02\n",
       "4     2023/08/03\n",
       "5     2023/08/04\n",
       "6     2023/08/07\n",
       "7     2023/08/08\n",
       "8     2023/08/09\n",
       "9     2023/08/10\n",
       "10    2023/08/11\n",
       "11    2023/08/14\n",
       "12    2023/08/16\n",
       "13    2023/08/17\n",
       "14    2023/08/18\n",
       "15    2023/08/21\n",
       "16    2023/08/22\n",
       "17    2023/08/23\n",
       "18    2023/08/24\n",
       "19    2023/08/25\n",
       "20    2023/08/28\n",
       "21    2023/08/29\n",
       "22    2023/08/30\n",
       "23    2023/08/31\n",
       "24    2023/09/01\n",
       "25    2023/09/04\n",
       "26    2023/09/05\n",
       "27    2023/09/06\n",
       "28    2023/09/07\n",
       "29    2023/09/08\n",
       "30    2023/09/11\n",
       "31    2023/09/12\n",
       "32    2023/09/13\n",
       "33    2023/09/14\n",
       "34    2023/09/15\n",
       "35    2023/09/18\n",
       "36    2023/09/19\n",
       "37    2023/09/20\n",
       "38    2023/09/21\n",
       "39    2023/09/22\n",
       "40    2023/09/25\n",
       "41    2023/09/26\n",
       "42    2023/09/27\n",
       "43    2023/10/04\n",
       "44    2023/10/05\n",
       "45    2023/10/06\n",
       "46    2023/10/10\n",
       "47    2023/10/11\n",
       "48    2023/10/12\n",
       "49    2023/10/13\n",
       "50    2023/10/16\n",
       "51    2023/10/17\n",
       "52    2023/10/18\n",
       "53    2023/10/19\n",
       "54    2023/10/20\n",
       "55    2023/10/23\n",
       "56    2023/10/24\n",
       "57    2023/10/25\n",
       "58    2023/10/26\n",
       "59    2023/10/27\n",
       "Name: date, dtype: object"
      ]
     },
     "execution_count": 57,
     "metadata": {},
     "output_type": "execute_result"
    }
   ],
   "source": [
    "cd['date']"
   ]
  },
  {
   "cell_type": "code",
   "execution_count": 58,
   "metadata": {},
   "outputs": [],
   "source": [
    "cd['date'] = pd.to_datetime(cd['date'])\n",
    "cd.sort_values(by='date',inplace=True)"
   ]
  },
  {
   "cell_type": "code",
   "execution_count": 59,
   "metadata": {},
   "outputs": [],
   "source": [
    "cd['cd_p_change(%)'] = cd['cd'].pct_change() *100"
   ]
  },
  {
   "cell_type": "code",
   "execution_count": 60,
   "metadata": {},
   "outputs": [],
   "source": [
    "cd['ks200_p_range'] = cd['cd'].diff(1)"
   ]
  },
  {
   "cell_type": "code",
   "execution_count": 61,
   "metadata": {},
   "outputs": [],
   "source": [
    "cd = cd.iloc[1:]"
   ]
  },
  {
   "cell_type": "code",
   "execution_count": 62,
   "metadata": {},
   "outputs": [
    {
     "name": "stdout",
     "output_type": "stream",
     "text": [
      "<class 'pandas.core.frame.DataFrame'>\n",
      "RangeIndex: 59 entries, 1 to 59\n",
      "Data columns (total 4 columns):\n",
      " #   Column          Non-Null Count  Dtype         \n",
      "---  ------          --------------  -----         \n",
      " 0   date            59 non-null     datetime64[ns]\n",
      " 1   cd              59 non-null     float64       \n",
      " 2   cd_p_change(%)  59 non-null     float64       \n",
      " 3   ks200_p_range   59 non-null     float64       \n",
      "dtypes: datetime64[ns](1), float64(3)\n",
      "memory usage: 2.0 KB\n"
     ]
    }
   ],
   "source": [
    "cd.info()"
   ]
  },
  {
   "cell_type": "code",
   "execution_count": 64,
   "metadata": {},
   "outputs": [],
   "source": [
    "cd.to_csv('../dataset/CD.csv')"
   ]
  },
  {
   "cell_type": "code",
   "execution_count": null,
   "metadata": {},
   "outputs": [],
   "source": []
  }
 ],
 "metadata": {
  "kernelspec": {
   "display_name": "Python 3",
   "language": "python",
   "name": "python3"
  },
  "language_info": {
   "codemirror_mode": {
    "name": "ipython",
    "version": 3
   },
   "file_extension": ".py",
   "mimetype": "text/x-python",
   "name": "python",
   "nbconvert_exporter": "python",
   "pygments_lexer": "ipython3",
   "version": "3.11.4"
  }
 },
 "nbformat": 4,
 "nbformat_minor": 2
}
