{
 "cells": [
  {
   "cell_type": "markdown",
   "metadata": {},
   "source": [
    "##### vix 변동률 구하기\n",
    "* 전일 변동율 = (전날종가 - 전날시가) / 전날시가 -> vix_day_change\n",
    "* 전일 변동폭 = 전날고가 - 전날저가 -> vix_day_fluc_range\n",
    "* (종가 - 종가) 변동율 = (당일종가 - 전날종가) / 전날종가 -> vix_close_change -> 변동 %\n",
    "* 데이터 기간 : 2023/07/31 ~ 2023/10/20"
   ]
  },
  {
   "cell_type": "code",
   "execution_count": 32,
   "metadata": {},
   "outputs": [],
   "source": [
    "import pandas as pd"
   ]
  },
  {
   "cell_type": "code",
   "execution_count": 33,
   "metadata": {},
   "outputs": [
    {
     "data": {
      "text/html": [
       "<div>\n",
       "<style scoped>\n",
       "    .dataframe tbody tr th:only-of-type {\n",
       "        vertical-align: middle;\n",
       "    }\n",
       "\n",
       "    .dataframe tbody tr th {\n",
       "        vertical-align: top;\n",
       "    }\n",
       "\n",
       "    .dataframe thead th {\n",
       "        text-align: right;\n",
       "    }\n",
       "</style>\n",
       "<table border=\"1\" class=\"dataframe\">\n",
       "  <thead>\n",
       "    <tr style=\"text-align: right;\">\n",
       "      <th></th>\n",
       "      <th>날짜</th>\n",
       "      <th>종가</th>\n",
       "      <th>시가</th>\n",
       "      <th>고가</th>\n",
       "      <th>저가</th>\n",
       "      <th>거래량</th>\n",
       "      <th>변동 %</th>\n",
       "    </tr>\n",
       "  </thead>\n",
       "  <tbody>\n",
       "    <tr>\n",
       "      <th>0</th>\n",
       "      <td>2023- 10- 23</td>\n",
       "      <td>22.41</td>\n",
       "      <td>21.83</td>\n",
       "      <td>23.08</td>\n",
       "      <td>21.77</td>\n",
       "      <td>NaN</td>\n",
       "      <td>3.22%</td>\n",
       "    </tr>\n",
       "    <tr>\n",
       "      <th>1</th>\n",
       "      <td>2023- 10- 20</td>\n",
       "      <td>21.71</td>\n",
       "      <td>21.59</td>\n",
       "      <td>21.83</td>\n",
       "      <td>20.42</td>\n",
       "      <td>NaN</td>\n",
       "      <td>1.45%</td>\n",
       "    </tr>\n",
       "    <tr>\n",
       "      <th>2</th>\n",
       "      <td>2023- 10- 19</td>\n",
       "      <td>21.40</td>\n",
       "      <td>19.73</td>\n",
       "      <td>21.40</td>\n",
       "      <td>18.55</td>\n",
       "      <td>NaN</td>\n",
       "      <td>11.34%</td>\n",
       "    </tr>\n",
       "    <tr>\n",
       "      <th>3</th>\n",
       "      <td>2023- 10- 18</td>\n",
       "      <td>19.22</td>\n",
       "      <td>18.36</td>\n",
       "      <td>20.15</td>\n",
       "      <td>17.88</td>\n",
       "      <td>NaN</td>\n",
       "      <td>7.49%</td>\n",
       "    </tr>\n",
       "    <tr>\n",
       "      <th>4</th>\n",
       "      <td>2023- 10- 17</td>\n",
       "      <td>17.88</td>\n",
       "      <td>17.41</td>\n",
       "      <td>18.54</td>\n",
       "      <td>16.97</td>\n",
       "      <td>NaN</td>\n",
       "      <td>3.89%</td>\n",
       "    </tr>\n",
       "    <tr>\n",
       "      <th>...</th>\n",
       "      <td>...</td>\n",
       "      <td>...</td>\n",
       "      <td>...</td>\n",
       "      <td>...</td>\n",
       "      <td>...</td>\n",
       "      <td>...</td>\n",
       "      <td>...</td>\n",
       "    </tr>\n",
       "    <tr>\n",
       "      <th>103</th>\n",
       "      <td>2023- 05- 31</td>\n",
       "      <td>17.94</td>\n",
       "      <td>18.04</td>\n",
       "      <td>18.40</td>\n",
       "      <td>17.12</td>\n",
       "      <td>NaN</td>\n",
       "      <td>2.75%</td>\n",
       "    </tr>\n",
       "    <tr>\n",
       "      <th>104</th>\n",
       "      <td>2023- 05- 30</td>\n",
       "      <td>17.46</td>\n",
       "      <td>17.56</td>\n",
       "      <td>18.34</td>\n",
       "      <td>16.98</td>\n",
       "      <td>NaN</td>\n",
       "      <td>0.00%</td>\n",
       "    </tr>\n",
       "    <tr>\n",
       "      <th>105</th>\n",
       "      <td>2023- 05- 29</td>\n",
       "      <td>17.46</td>\n",
       "      <td>17.53</td>\n",
       "      <td>17.60</td>\n",
       "      <td>17.34</td>\n",
       "      <td>NaN</td>\n",
       "      <td>-2.73%</td>\n",
       "    </tr>\n",
       "    <tr>\n",
       "      <th>106</th>\n",
       "      <td>2023- 05- 26</td>\n",
       "      <td>17.95</td>\n",
       "      <td>19.07</td>\n",
       "      <td>19.56</td>\n",
       "      <td>17.27</td>\n",
       "      <td>NaN</td>\n",
       "      <td>-6.22%</td>\n",
       "    </tr>\n",
       "    <tr>\n",
       "      <th>107</th>\n",
       "      <td>2023- 05- 25</td>\n",
       "      <td>19.14</td>\n",
       "      <td>19.54</td>\n",
       "      <td>19.95</td>\n",
       "      <td>18.70</td>\n",
       "      <td>NaN</td>\n",
       "      <td>-4.44%</td>\n",
       "    </tr>\n",
       "  </tbody>\n",
       "</table>\n",
       "<p>108 rows × 7 columns</p>\n",
       "</div>"
      ],
      "text/plain": [
       "               날짜     종가     시가     고가     저가  거래량    변동 %\n",
       "0    2023- 10- 23  22.41  21.83  23.08  21.77  NaN   3.22%\n",
       "1    2023- 10- 20  21.71  21.59  21.83  20.42  NaN   1.45%\n",
       "2    2023- 10- 19  21.40  19.73  21.40  18.55  NaN  11.34%\n",
       "3    2023- 10- 18  19.22  18.36  20.15  17.88  NaN   7.49%\n",
       "4    2023- 10- 17  17.88  17.41  18.54  16.97  NaN   3.89%\n",
       "..            ...    ...    ...    ...    ...  ...     ...\n",
       "103  2023- 05- 31  17.94  18.04  18.40  17.12  NaN   2.75%\n",
       "104  2023- 05- 30  17.46  17.56  18.34  16.98  NaN   0.00%\n",
       "105  2023- 05- 29  17.46  17.53  17.60  17.34  NaN  -2.73%\n",
       "106  2023- 05- 26  17.95  19.07  19.56  17.27  NaN  -6.22%\n",
       "107  2023- 05- 25  19.14  19.54  19.95  18.70  NaN  -4.44%\n",
       "\n",
       "[108 rows x 7 columns]"
      ]
     },
     "execution_count": 33,
     "metadata": {},
     "output_type": "execute_result"
    }
   ],
   "source": [
    "vix = pd.read_csv('../dataset/VIX.csv')\n",
    "vix"
   ]
  },
  {
   "cell_type": "code",
   "execution_count": 34,
   "metadata": {},
   "outputs": [],
   "source": [
    "vix.날짜 = pd.to_datetime(vix.날짜)"
   ]
  },
  {
   "cell_type": "code",
   "execution_count": 35,
   "metadata": {},
   "outputs": [],
   "source": [
    "vix.drop(['거래량'], axis=1, inplace=True)"
   ]
  },
  {
   "cell_type": "code",
   "execution_count": 36,
   "metadata": {},
   "outputs": [],
   "source": [
    "vix['변동 %'] = vix['변동 %'].astype(str)"
   ]
  },
  {
   "cell_type": "code",
   "execution_count": 37,
   "metadata": {},
   "outputs": [],
   "source": [
    "vix[\"변동 %\"] = vix[\"변동 %\"].str.rstrip('%')\n",
    "vix[\"변동 %\"] = vix[\"변동 %\"].astype(float)"
   ]
  },
  {
   "cell_type": "code",
   "execution_count": 38,
   "metadata": {},
   "outputs": [
    {
     "data": {
      "text/html": [
       "<div>\n",
       "<style scoped>\n",
       "    .dataframe tbody tr th:only-of-type {\n",
       "        vertical-align: middle;\n",
       "    }\n",
       "\n",
       "    .dataframe tbody tr th {\n",
       "        vertical-align: top;\n",
       "    }\n",
       "\n",
       "    .dataframe thead th {\n",
       "        text-align: right;\n",
       "    }\n",
       "</style>\n",
       "<table border=\"1\" class=\"dataframe\">\n",
       "  <thead>\n",
       "    <tr style=\"text-align: right;\">\n",
       "      <th></th>\n",
       "      <th>날짜</th>\n",
       "      <th>종가</th>\n",
       "      <th>시가</th>\n",
       "      <th>고가</th>\n",
       "      <th>저가</th>\n",
       "      <th>변동 %</th>\n",
       "    </tr>\n",
       "  </thead>\n",
       "  <tbody>\n",
       "    <tr>\n",
       "      <th>0</th>\n",
       "      <td>2023-10-23</td>\n",
       "      <td>22.41</td>\n",
       "      <td>21.83</td>\n",
       "      <td>23.08</td>\n",
       "      <td>21.77</td>\n",
       "      <td>3.22</td>\n",
       "    </tr>\n",
       "    <tr>\n",
       "      <th>1</th>\n",
       "      <td>2023-10-20</td>\n",
       "      <td>21.71</td>\n",
       "      <td>21.59</td>\n",
       "      <td>21.83</td>\n",
       "      <td>20.42</td>\n",
       "      <td>1.45</td>\n",
       "    </tr>\n",
       "    <tr>\n",
       "      <th>2</th>\n",
       "      <td>2023-10-19</td>\n",
       "      <td>21.40</td>\n",
       "      <td>19.73</td>\n",
       "      <td>21.40</td>\n",
       "      <td>18.55</td>\n",
       "      <td>11.34</td>\n",
       "    </tr>\n",
       "    <tr>\n",
       "      <th>3</th>\n",
       "      <td>2023-10-18</td>\n",
       "      <td>19.22</td>\n",
       "      <td>18.36</td>\n",
       "      <td>20.15</td>\n",
       "      <td>17.88</td>\n",
       "      <td>7.49</td>\n",
       "    </tr>\n",
       "    <tr>\n",
       "      <th>4</th>\n",
       "      <td>2023-10-17</td>\n",
       "      <td>17.88</td>\n",
       "      <td>17.41</td>\n",
       "      <td>18.54</td>\n",
       "      <td>16.97</td>\n",
       "      <td>3.89</td>\n",
       "    </tr>\n",
       "  </tbody>\n",
       "</table>\n",
       "</div>"
      ],
      "text/plain": [
       "          날짜     종가     시가     고가     저가   변동 %\n",
       "0 2023-10-23  22.41  21.83  23.08  21.77   3.22\n",
       "1 2023-10-20  21.71  21.59  21.83  20.42   1.45\n",
       "2 2023-10-19  21.40  19.73  21.40  18.55  11.34\n",
       "3 2023-10-18  19.22  18.36  20.15  17.88   7.49\n",
       "4 2023-10-17  17.88  17.41  18.54  16.97   3.89"
      ]
     },
     "execution_count": 38,
     "metadata": {},
     "output_type": "execute_result"
    }
   ],
   "source": [
    "vix.head(5)"
   ]
  },
  {
   "cell_type": "code",
   "execution_count": 39,
   "metadata": {},
   "outputs": [],
   "source": [
    "# close to close 변동률은 한국 기준 시간에서 \n",
    "vix['변동 %'] = vix['변동 %'].shift(-1)"
   ]
  },
  {
   "cell_type": "code",
   "execution_count": 40,
   "metadata": {},
   "outputs": [],
   "source": [
    "vix['vix_day_change'] = 0"
   ]
  },
  {
   "cell_type": "code",
   "execution_count": 43,
   "metadata": {},
   "outputs": [
    {
     "data": {
      "text/html": [
       "<div>\n",
       "<style scoped>\n",
       "    .dataframe tbody tr th:only-of-type {\n",
       "        vertical-align: middle;\n",
       "    }\n",
       "\n",
       "    .dataframe tbody tr th {\n",
       "        vertical-align: top;\n",
       "    }\n",
       "\n",
       "    .dataframe thead th {\n",
       "        text-align: right;\n",
       "    }\n",
       "</style>\n",
       "<table border=\"1\" class=\"dataframe\">\n",
       "  <thead>\n",
       "    <tr style=\"text-align: right;\">\n",
       "      <th></th>\n",
       "      <th>날짜</th>\n",
       "      <th>종가</th>\n",
       "      <th>시가</th>\n",
       "      <th>고가</th>\n",
       "      <th>저가</th>\n",
       "      <th>변동 %</th>\n",
       "      <th>vix_day_change</th>\n",
       "    </tr>\n",
       "  </thead>\n",
       "  <tbody>\n",
       "    <tr>\n",
       "      <th>0</th>\n",
       "      <td>2023-10-23</td>\n",
       "      <td>22.41</td>\n",
       "      <td>21.83</td>\n",
       "      <td>23.08</td>\n",
       "      <td>21.77</td>\n",
       "      <td>1.45</td>\n",
       "      <td>0</td>\n",
       "    </tr>\n",
       "    <tr>\n",
       "      <th>1</th>\n",
       "      <td>2023-10-20</td>\n",
       "      <td>21.71</td>\n",
       "      <td>21.59</td>\n",
       "      <td>21.83</td>\n",
       "      <td>20.42</td>\n",
       "      <td>11.34</td>\n",
       "      <td>0</td>\n",
       "    </tr>\n",
       "    <tr>\n",
       "      <th>2</th>\n",
       "      <td>2023-10-19</td>\n",
       "      <td>21.40</td>\n",
       "      <td>19.73</td>\n",
       "      <td>21.40</td>\n",
       "      <td>18.55</td>\n",
       "      <td>7.49</td>\n",
       "      <td>0</td>\n",
       "    </tr>\n",
       "    <tr>\n",
       "      <th>3</th>\n",
       "      <td>2023-10-18</td>\n",
       "      <td>19.22</td>\n",
       "      <td>18.36</td>\n",
       "      <td>20.15</td>\n",
       "      <td>17.88</td>\n",
       "      <td>3.89</td>\n",
       "      <td>0</td>\n",
       "    </tr>\n",
       "    <tr>\n",
       "      <th>4</th>\n",
       "      <td>2023-10-17</td>\n",
       "      <td>17.88</td>\n",
       "      <td>17.41</td>\n",
       "      <td>18.54</td>\n",
       "      <td>16.97</td>\n",
       "      <td>-10.92</td>\n",
       "      <td>0</td>\n",
       "    </tr>\n",
       "  </tbody>\n",
       "</table>\n",
       "</div>"
      ],
      "text/plain": [
       "          날짜     종가     시가     고가     저가   변동 %  vix_day_change\n",
       "0 2023-10-23  22.41  21.83  23.08  21.77   1.45               0\n",
       "1 2023-10-20  21.71  21.59  21.83  20.42  11.34               0\n",
       "2 2023-10-19  21.40  19.73  21.40  18.55   7.49               0\n",
       "3 2023-10-18  19.22  18.36  20.15  17.88   3.89               0\n",
       "4 2023-10-17  17.88  17.41  18.54  16.97 -10.92               0"
      ]
     },
     "execution_count": 43,
     "metadata": {},
     "output_type": "execute_result"
    }
   ],
   "source": [
    "vix.head(5)"
   ]
  },
  {
   "cell_type": "code",
   "execution_count": 45,
   "metadata": {},
   "outputs": [],
   "source": [
    "vix['vix_day_change'] = ((vix['종가'] - vix['시가']) / vix['시가']) * 100"
   ]
  },
  {
   "cell_type": "code",
   "execution_count": 47,
   "metadata": {},
   "outputs": [],
   "source": [
    "vix['vix_day_fluc_range'] = vix['고가'] - vix['저가']"
   ]
  },
  {
   "cell_type": "code",
   "execution_count": 49,
   "metadata": {},
   "outputs": [],
   "source": [
    "vix['vix_day_change'] = vix['vix_day_change'].shift(-1)\n",
    "vix['vix_day_fluc_range'] = vix['vix_day_fluc_range'].shift(-1)"
   ]
  },
  {
   "cell_type": "code",
   "execution_count": 52,
   "metadata": {},
   "outputs": [],
   "source": [
    "vix = vix[['날짜', '변동 %', 'vix_day_change', 'vix_day_fluc_range']]"
   ]
  },
  {
   "cell_type": "code",
   "execution_count": 56,
   "metadata": {},
   "outputs": [],
   "source": [
    "vix = vix.rename(columns={'변동 %' : 'vix_close_change'})"
   ]
  },
  {
   "cell_type": "markdown",
   "metadata": {},
   "source": [
    "##### 날짜 미루는거까지 완료 한국 날짜와 맞추기 위해 vix test 데이터로 관찰"
   ]
  },
  {
   "cell_type": "code",
   "execution_count": 61,
   "metadata": {},
   "outputs": [],
   "source": [
    "vix[1:61].to_csv('../vix_test.csv')"
   ]
  },
  {
   "cell_type": "code",
   "execution_count": null,
   "metadata": {},
   "outputs": [],
   "source": []
  }
 ],
 "metadata": {
  "kernelspec": {
   "display_name": "Python 3",
   "language": "python",
   "name": "python3"
  },
  "language_info": {
   "codemirror_mode": {
    "name": "ipython",
    "version": 3
   },
   "file_extension": ".py",
   "mimetype": "text/x-python",
   "name": "python",
   "nbconvert_exporter": "python",
   "pygments_lexer": "ipython3",
   "version": "3.11.4"
  }
 },
 "nbformat": 4,
 "nbformat_minor": 2
}
